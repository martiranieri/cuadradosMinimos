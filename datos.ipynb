{
 "cells": [
  {
   "cell_type": "code",
   "execution_count": 5,
   "metadata": {},
   "outputs": [],
   "source": [
    "import numpy as np\n",
    "import matplotlib.pyplot as plt\n",
    "import pandas as pd\n",
    "import seaborn as sns"
   ]
  },
  {
   "cell_type": "markdown",
   "metadata": {},
   "source": [
    "Leemos los dos datasets. Uno lo usaremos para el algoritmo de CML y el otro como validación para ver qué tan bien se ajusta la curva a otro conjunto con la misma distribución"
   ]
  },
  {
   "cell_type": "code",
   "execution_count": 6,
   "metadata": {},
   "outputs": [],
   "source": [
    "def leer_datos(archivo):\n",
    "    datos_reshape = np.loadtxt(archivo)\n",
    "\n",
    "    return (datos_reshape[:, 0], datos_reshape[:, 1])\n",
    "\n",
    "A_ajuste, y_ajuste = leer_datos('./datos/ajuste.txt')\n",
    "A_val, y_val = leer_datos('./datos/validacion.txt')\n",
    "\n",
    "def calcular_legendre(A, grado):\n",
    "    return np.polynomial.legendre.legvander(A, grado)"
   ]
  },
  {
   "cell_type": "markdown",
   "metadata": {},
   "source": [
    "Calculamos los errores"
   ]
  },
  {
   "cell_type": "code",
   "execution_count": 7,
   "metadata": {},
   "outputs": [],
   "source": [
    "def predecir(beta_pred, As, grado):\n",
    "  A_legendre = np.polynomial.legendre.legvander(As, grado)\n",
    "  return (A_legendre @ beta_pred)\n",
    "\n",
    "def ECM(beta_pred, A, ys):\n",
    "  y_pred = A @ beta_pred\n",
    "  return np.mean((y_pred - ys)**2)"
   ]
  }
 ],
 "metadata": {
  "kernelspec": {
   "display_name": "Python 3",
   "language": "python",
   "name": "python3"
  },
  "language_info": {
   "codemirror_mode": {
    "name": "ipython",
    "version": 3
   },
   "file_extension": ".py",
   "mimetype": "text/x-python",
   "name": "python",
   "nbconvert_exporter": "python",
   "pygments_lexer": "ipython3",
   "version": "3.10.12"
  }
 },
 "nbformat": 4,
 "nbformat_minor": 2
}
