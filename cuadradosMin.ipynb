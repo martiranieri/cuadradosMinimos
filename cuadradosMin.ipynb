{
 "cells": [
  {
   "cell_type": "code",
   "execution_count": 3,
   "metadata": {},
   "outputs": [],
   "source": [
    "import numpy as np\n",
    "import matplotlib.pyplot as plt\n",
    "import pandas as pd\n",
    "import seaborn as sns\n",
    "%run ./datos.ipynb"
   ]
  },
  {
   "cell_type": "markdown",
   "metadata": {},
   "source": [
    "2. a. Implementar código en python para resolver el problema de cuadrados mínimos utilizando\n",
    "SVD (np.linalg.svd)"
   ]
  },
  {
   "cell_type": "code",
   "execution_count": 4,
   "metadata": {},
   "outputs": [],
   "source": [
    "def cuadrados_minimos(A, y):\n",
    "    U, S, Vt = np.linalg.svd(A, full_matrices = False) # esto ya me reduce el U\n",
    "    \n",
    "    S_inv = np.diag(np.reciprocal(S))\n",
    "\n",
    "    beta = Vt.T @ S_inv @ U.T @ y\n",
    "\n",
    "    y_pred = (beta.T @ A.T).T# calculamos los y con los beta\n",
    "    \n",
    "    return beta, y_pred"
   ]
  },
  {
   "cell_type": "markdown",
   "metadata": {},
   "source": [
    "2. b. Cuadrados minimos con regularizacion"
   ]
  },
  {
   "cell_type": "code",
   "execution_count": 5,
   "metadata": {},
   "outputs": [],
   "source": [
    "def cuadrados_min_reg(A, lam, y):\n",
    "    U, S, Vt = np.linalg.svd(A, full_matrices= False)\n",
    "\n",
    "    inv_diag = np.diag(1 / (S**2 + lam))\n",
    "   \n",
    "    beta = Vt.T @ np.diag(S) @ inv_diag @ U.T @ y\n",
    "\n",
    "    y_pred = (beta.T @ A.T).T# calculamos los y con los beta\n",
    "    \n",
    "    return beta, y_pred"
   ]
  }
 ],
 "metadata": {
  "kernelspec": {
   "display_name": "Python 3",
   "language": "python",
   "name": "python3"
  },
  "language_info": {
   "codemirror_mode": {
    "name": "ipython",
    "version": 3
   },
   "file_extension": ".py",
   "mimetype": "text/x-python",
   "name": "python",
   "nbconvert_exporter": "python",
   "pygments_lexer": "ipython3",
   "version": "3.10.12"
  }
 },
 "nbformat": 4,
 "nbformat_minor": 2
}
